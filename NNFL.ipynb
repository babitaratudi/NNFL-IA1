{
 "cells": [
  {
   "cell_type": "markdown",
   "metadata": {},
   "source": [
    "# Import packages and libraries\n",
    "## Import the packages and libraries to use"
   ]
  },
  {
   "cell_type": "code",
   "execution_count": 1,
   "metadata": {
    "id": "YDab8y0Iuwc-"
   },
   "outputs": [],
   "source": [
    "import os\n",
    "import numpy as np\n",
    "from PIL import Image\n",
    "from numpy import asarray\n",
    "import tarfile\n",
    "\n",
    "from keras.models import Sequential\n",
    "from keras.layers import Conv2D\n",
    "from keras.layers import MaxPooling2D\n",
    "from keras.layers import Flatten \n",
    "from keras.layers import Dense \n",
    "from keras.layers import Dropout\n",
    "from keras.optimizers import SGD, schedules\n",
    "from keras.preprocessing.image import ImageDataGenerator\n",
    "from keras import initializers"
   ]
  },
  {
   "cell_type": "markdown",
   "metadata": {},
   "source": [
    "# Extract the Dataset\n",
    "## Input the zip file from object storage and extract the data"
   ]
  },
  {
   "cell_type": "code",
   "execution_count": null,
   "metadata": {
    "id": "dJY85tYg_41m"
   },
   "outputs": [],
   "source": [
    "# Extracting D1 train\n",
    "# my_tar = tarfile.open('./drive/My Drive/Plant Classification/Dataset/D1/train.tar')\n",
    "# my_tar.extractall('./drive/My Drive/Plant Classification/Dataset/D1')\n",
    "# my_tar.close()"
   ]
  },
  {
   "cell_type": "code",
   "execution_count": null,
   "metadata": {
    "id": "uRPNGaQJA4AW"
   },
   "outputs": [],
   "source": [
    "# Extracting D1 test\n",
    "# my_tar = tarfile.open('./drive/My Drive/Plant Classification/Dataset/D1/test.tar')\n",
    "# my_tar.extractall('./drive/My Drive/Plant Classification/Dataset/D1')\n",
    "# my_tar.close()"
   ]
  },
  {
   "cell_type": "code",
   "execution_count": 2,
   "metadata": {
    "colab": {
     "base_uri": "https://localhost:8080/",
     "height": 35
    },
    "id": "6TPjnA-cg6YY",
    "outputId": "84f0ae96-7425-494f-de89-8d22e54b3aeb"
   },
   "outputs": [
    {
     "name": "stdout",
     "output_type": "stream",
     "text": [
      "Mounted at /content/drive\n"
     ]
    }
   ],
   "source": [
    "from google.colab import drive\n",
    "drive.mount('/content/drive')"
   ]
  },
  {
   "cell_type": "markdown",
   "metadata": {},
   "source": [
    "# Create the Datset"
   ]
  },
  {
   "cell_type": "code",
   "execution_count": 2,
   "metadata": {
    "colab": {
     "base_uri": "https://localhost:8080/",
     "height": 53
    },
    "id": "UrH0fthMQj9I",
    "outputId": "32c83e20-fada-4cdf-85d6-8207cbe0cf41"
   },
   "outputs": [
    {
     "name": "stdout",
     "output_type": "stream",
     "text": [
      "trainX:  (2288, 228, 228, 3)\n",
      "trainY:  (2288, 44)\n"
     ]
    }
   ],
   "source": [
    "#D1 Train\n",
    "\n",
    "root_directory = \"./MK/D1/train\"\n",
    "trainX = []\n",
    "trainY = []\n",
    "\n",
    "#getting the labels and converting the image into array from the training image\n",
    "for classNo in range(0,44):\n",
    "  directory = root_directory + \"/Class (\" + str(classNo+1) + \")\"\n",
    "  for image_name in os.listdir(directory):\n",
    "    image_path = os.path.join(directory, image_name)\n",
    "    image = Image.open(image_path)\n",
    "    img1 = image.crop((14,14, image.width-14, image.height-14))\n",
    "    image_array = asarray(img1)\n",
    "    trainX.append(image_array)\n",
    "    one_hot = np.zeros((44))\n",
    "    one_hot[classNo] = 1\n",
    "    trainY.append(one_hot)\n",
    "\n",
    "trainX = np.array(trainX)\n",
    "trainY = np.array(trainY)\n",
    "print(\"trainX: \", trainX.shape)\n",
    "print(\"trainY: \", trainY.shape)"
   ]
  },
  {
   "cell_type": "code",
   "execution_count": 3,
   "metadata": {
    "colab": {
     "base_uri": "https://localhost:8080/",
     "height": 53
    },
    "id": "NN8t0U3eQuCE",
    "outputId": "94698c66-208f-4b83-9dc2-4f18042f2624"
   },
   "outputs": [
    {
     "name": "stdout",
     "output_type": "stream",
     "text": [
      "testX:  (528, 228, 228, 3)\n",
      "testY:  (528, 44)\n"
     ]
    }
   ],
   "source": [
    "#D1 Test \n",
    "\n",
    "root_directory = \"./MK/D1/test\"\n",
    "testX = []\n",
    "testY = []\n",
    "\n",
    "#getting the labels and converting the image into array from the test image\n",
    "for classNo in range(0,44):\n",
    "  directory = root_directory + \"/Class (\" + str(classNo+1) + \")\"\n",
    "  for image_name in os.listdir(directory):\n",
    "    image_path = os.path.join(directory, image_name)\n",
    "    image = Image.open(image_path)\n",
    "    img1 = image.crop((14,14, image.width-14, image.height-14))\n",
    "    image_array = asarray(img1)\n",
    "    testX.append(image_array)\n",
    "    one_hot = np.zeros((44))\n",
    "    one_hot[classNo] = 1\n",
    "    testY.append(one_hot)\n",
    "\n",
    "testX = np.array(testX)\n",
    "testY = np.array(testY)\n",
    "print(\"testX: \", testX.shape)\n",
    "print(\"testY: \", testY.shape)"
   ]
  },
  {
   "cell_type": "code",
   "execution_count": 4,
   "metadata": {
    "colab": {
     "base_uri": "https://localhost:8080/",
     "height": 53
    },
    "id": "e3Z7Ph8dovu1",
    "outputId": "57d1ce67-f918-44a6-ea50-fdaffec18c5c"
   },
   "outputs": [
    {
     "name": "stdout",
     "output_type": "stream",
     "text": [
      "(228, 228, 3)\n",
      "(228, 228, 3)\n"
     ]
    }
   ],
   "source": [
    "#Image crop trial\n",
    "img_file_path = \"./MK/D1/test/Class (1)/R_0Class1 (12).jpg\"\n",
    "img = Image.open(img_file_path)\n",
    "img_array = asarray(image)\n",
    "print(image_array.shape)\n",
    "img1 = img.crop((14,14, img.width-14, img.height-14))\n",
    "img_array = asarray(img1)\n",
    "print(img_array.shape)\n"
   ]
  },
  {
   "cell_type": "markdown",
   "metadata": {},
   "source": [
    "#  Build the Model"
   ]
  },
  {
   "cell_type": "code",
   "execution_count": 5,
   "metadata": {
    "id": "O9GtKWZAiUAz"
   },
   "outputs": [],
   "source": [
    "# CNN for D1\n",
    "\n",
    "classifier=Sequential()\n",
    "classifier.add(Conv2D(filters=96, kernel_size=11, strides=4, input_shape=(228, 228, 3), activation='relu', kernel_initializer=initializers.RandomNormal(stddev=0.01)))\n",
    "classifier.add(MaxPooling2D(pool_size=(3,3), strides=2))\n",
    "classifier.add(Conv2D(filters=256, kernel_size=5, strides=1, padding=\"same\", activation='relu', kernel_initializer=initializers.RandomNormal(stddev=0.01)))\n",
    "classifier.add(MaxPooling2D(pool_size=(3,3), strides=2))\n",
    "classifier.add(Conv2D(filters=384, kernel_size=3, strides=1, padding=\"same\", activation='relu', kernel_initializer=initializers.RandomNormal(stddev=0.01)))\n",
    "classifier.add(Conv2D(filters=384, kernel_size=3, strides=1, padding=\"same\", activation='relu', kernel_initializer=initializers.RandomNormal(stddev=0.01)))\n",
    "classifier.add(Conv2D(filters=256, kernel_size=3, strides=1, padding=\"same\", activation='relu', kernel_initializer=initializers.RandomNormal(stddev=0.01)))\n",
    "classifier.add(MaxPooling2D(pool_size=(3,3), strides=2))\n",
    "classifier.add(Flatten())\n",
    "classifier.add(Dense(units=4096, activation='relu', kernel_initializer=initializers.RandomNormal(stddev=0.005)))\n",
    "classifier.add(Dropout(0.5))\n",
    "classifier.add(Dense(units=4096, activation='relu', kernel_initializer=initializers.RandomNormal(stddev=0.005)))\n",
    "classifier.add(Dropout(0.5))\n",
    "classifier.add(Dense(units=44, activation='softmax', kernel_initializer=initializers.RandomNormal(stddev=0.01)))\n",
    "lr_schedule = schedules.ExponentialDecay(\n",
    "    initial_learning_rate=1e-3,\n",
    "    decay_steps=20000,\n",
    "    decay_rate=0.1)\n",
    "classifier.compile(optimizer=SGD(learning_rate=lr_schedule, momentum=0.9),loss='categorical_crossentropy',metrics=['accuracy'])"
   ]
  },
  {
   "cell_type": "code",
   "execution_count": 6,
   "metadata": {
    "colab": {
     "base_uri": "https://localhost:8080/",
     "height": 671
    },
    "id": "XACiICGP5io8",
    "outputId": "ac721f3e-366c-4840-d05c-1f48257a7c34"
   },
   "outputs": [
    {
     "name": "stdout",
     "output_type": "stream",
     "text": [
      "Model: \"sequential\"\n",
      "_________________________________________________________________\n",
      "Layer (type)                 Output Shape              Param #   \n",
      "=================================================================\n",
      "conv2d (Conv2D)              (None, 55, 55, 96)        34944     \n",
      "_________________________________________________________________\n",
      "max_pooling2d (MaxPooling2D) (None, 27, 27, 96)        0         \n",
      "_________________________________________________________________\n",
      "conv2d_1 (Conv2D)            (None, 27, 27, 256)       614656    \n",
      "_________________________________________________________________\n",
      "max_pooling2d_1 (MaxPooling2 (None, 13, 13, 256)       0         \n",
      "_________________________________________________________________\n",
      "conv2d_2 (Conv2D)            (None, 13, 13, 384)       885120    \n",
      "_________________________________________________________________\n",
      "conv2d_3 (Conv2D)            (None, 13, 13, 384)       1327488   \n",
      "_________________________________________________________________\n",
      "conv2d_4 (Conv2D)            (None, 13, 13, 256)       884992    \n",
      "_________________________________________________________________\n",
      "max_pooling2d_2 (MaxPooling2 (None, 6, 6, 256)         0         \n",
      "_________________________________________________________________\n",
      "flatten (Flatten)            (None, 9216)              0         \n",
      "_________________________________________________________________\n",
      "dense (Dense)                (None, 4096)              37752832  \n",
      "_________________________________________________________________\n",
      "dropout (Dropout)            (None, 4096)              0         \n",
      "_________________________________________________________________\n",
      "dense_1 (Dense)              (None, 4096)              16781312  \n",
      "_________________________________________________________________\n",
      "dropout_1 (Dropout)          (None, 4096)              0         \n",
      "_________________________________________________________________\n",
      "dense_2 (Dense)              (None, 44)                180268    \n",
      "=================================================================\n",
      "Total params: 58,461,612\n",
      "Trainable params: 58,461,612\n",
      "Non-trainable params: 0\n",
      "_________________________________________________________________\n"
     ]
    }
   ],
   "source": [
    "classifier.summary()"
   ]
  },
  {
   "cell_type": "markdown",
   "metadata": {},
   "source": [
    "# Train the Model"
   ]
  },
  {
   "cell_type": "code",
   "execution_count": 9,
   "metadata": {
    "colab": {
     "base_uri": "https://localhost:8080/",
     "height": 1000
    },
    "id": "rauMS3TW7Z7v",
    "outputId": "6f7a88fe-3538-40f1-b9a7-e1d349cbe068"
   },
   "outputs": [
    {
     "name": "stdout",
     "output_type": "stream",
     "text": [
      "Epoch 1/100\n",
      "46/46 [==============================] - 219s 5s/step - loss: 3.7844 - accuracy: 0.0210 - val_loss: 3.7814 - val_accuracy: 0.0265\n",
      "Epoch 2/100\n",
      "46/46 [==============================] - 163s 4s/step - loss: 3.7806 - accuracy: 0.0236 - val_loss: 3.7776 - val_accuracy: 0.0227\n",
      "Epoch 3/100\n",
      "46/46 [==============================] - 160s 3s/step - loss: 3.7788 - accuracy: 0.0275 - val_loss: 3.7716 - val_accuracy: 0.0246\n",
      "Epoch 4/100\n",
      "46/46 [==============================] - 157s 3s/step - loss: 3.7735 - accuracy: 0.0275 - val_loss: 3.7660 - val_accuracy: 0.0227\n",
      "Epoch 5/100\n",
      "46/46 [==============================] - 164s 4s/step - loss: 3.7707 - accuracy: 0.0240 - val_loss: 3.7588 - val_accuracy: 0.0322\n",
      "Epoch 6/100\n",
      "46/46 [==============================] - 164s 4s/step - loss: 3.7546 - accuracy: 0.0306 - val_loss: 3.7271 - val_accuracy: 0.0549\n",
      "Epoch 7/100\n",
      "46/46 [==============================] - 163s 4s/step - loss: 3.7145 - accuracy: 0.0341 - val_loss: 3.6494 - val_accuracy: 0.0473\n",
      "Epoch 8/100\n",
      "46/46 [==============================] - 159s 3s/step - loss: 3.6257 - accuracy: 0.0642 - val_loss: 3.4974 - val_accuracy: 0.0739\n",
      "Epoch 9/100\n",
      "46/46 [==============================] - 159s 3s/step - loss: 3.4396 - accuracy: 0.0686 - val_loss: 3.3202 - val_accuracy: 0.0720\n",
      "Epoch 10/100\n",
      "46/46 [==============================] - 164s 4s/step - loss: 3.2733 - accuracy: 0.0813 - val_loss: 3.0861 - val_accuracy: 0.1193\n",
      "Epoch 11/100\n",
      "46/46 [==============================] - 166s 4s/step - loss: 3.1278 - accuracy: 0.1145 - val_loss: 2.9277 - val_accuracy: 0.1383\n",
      "Epoch 12/100\n",
      "46/46 [==============================] - 162s 4s/step - loss: 2.9679 - accuracy: 0.1372 - val_loss: 2.8467 - val_accuracy: 0.1439\n",
      "Epoch 13/100\n",
      "46/46 [==============================] - 160s 3s/step - loss: 2.8906 - accuracy: 0.1399 - val_loss: 2.6845 - val_accuracy: 0.2102\n",
      "Epoch 14/100\n",
      "46/46 [==============================] - 165s 4s/step - loss: 2.7054 - accuracy: 0.1823 - val_loss: 2.7078 - val_accuracy: 0.1989\n",
      "Epoch 15/100\n",
      "46/46 [==============================] - 166s 4s/step - loss: 2.5871 - accuracy: 0.1997 - val_loss: 2.5647 - val_accuracy: 0.1989\n",
      "Epoch 16/100\n",
      "46/46 [==============================] - 165s 4s/step - loss: 2.5817 - accuracy: 0.1980 - val_loss: 2.4348 - val_accuracy: 0.2273\n",
      "Epoch 17/100\n",
      "46/46 [==============================] - 163s 4s/step - loss: 2.3153 - accuracy: 0.2710 - val_loss: 2.2852 - val_accuracy: 0.2955\n",
      "Epoch 18/100\n",
      "46/46 [==============================] - 252s 6s/step - loss: 2.1550 - accuracy: 0.3064 - val_loss: 2.1527 - val_accuracy: 0.3144\n",
      "Epoch 19/100\n",
      "46/46 [==============================] - 290s 6s/step - loss: 2.0323 - accuracy: 0.3448 - val_loss: 2.1336 - val_accuracy: 0.3295\n",
      "Epoch 20/100\n",
      "46/46 [==============================] - 290s 6s/step - loss: 1.9491 - accuracy: 0.3767 - val_loss: 1.9949 - val_accuracy: 0.3182\n",
      "Epoch 21/100\n",
      "46/46 [==============================] - 291s 6s/step - loss: 1.7606 - accuracy: 0.4152 - val_loss: 1.7536 - val_accuracy: 0.4223\n",
      "Epoch 22/100\n",
      "46/46 [==============================] - 268s 6s/step - loss: 1.6636 - accuracy: 0.4550 - val_loss: 1.8984 - val_accuracy: 0.3996\n",
      "Epoch 23/100\n",
      "46/46 [==============================] - 161s 4s/step - loss: 1.5841 - accuracy: 0.4733 - val_loss: 1.7426 - val_accuracy: 0.4261\n",
      "Epoch 24/100\n",
      "46/46 [==============================] - 169s 4s/step - loss: 1.4049 - accuracy: 0.5315 - val_loss: 1.7957 - val_accuracy: 0.4053\n",
      "Epoch 25/100\n",
      "46/46 [==============================] - 166s 4s/step - loss: 1.3323 - accuracy: 0.5608 - val_loss: 1.6335 - val_accuracy: 0.4470\n",
      "Epoch 26/100\n",
      "46/46 [==============================] - 160s 3s/step - loss: 1.2779 - accuracy: 0.5747 - val_loss: 1.7091 - val_accuracy: 0.4280\n",
      "Epoch 27/100\n",
      "46/46 [==============================] - 168s 4s/step - loss: 1.1639 - accuracy: 0.6158 - val_loss: 1.5154 - val_accuracy: 0.4943\n",
      "Epoch 28/100\n",
      "46/46 [==============================] - 165s 4s/step - loss: 0.9738 - accuracy: 0.6700 - val_loss: 1.4274 - val_accuracy: 0.5227\n",
      "Epoch 29/100\n",
      "46/46 [==============================] - 162s 4s/step - loss: 0.8750 - accuracy: 0.6993 - val_loss: 1.4363 - val_accuracy: 0.5341\n",
      "Epoch 30/100\n",
      "46/46 [==============================] - 169s 4s/step - loss: 0.9185 - accuracy: 0.7002 - val_loss: 1.5504 - val_accuracy: 0.4981\n",
      "Epoch 31/100\n",
      "46/46 [==============================] - 170s 4s/step - loss: 0.7675 - accuracy: 0.7343 - val_loss: 1.5728 - val_accuracy: 0.4867\n",
      "Epoch 32/100\n",
      "46/46 [==============================] - 162s 4s/step - loss: 0.7555 - accuracy: 0.7509 - val_loss: 1.3537 - val_accuracy: 0.5985\n",
      "Epoch 33/100\n",
      "46/46 [==============================] - 167s 4s/step - loss: 0.5554 - accuracy: 0.8129 - val_loss: 1.4845 - val_accuracy: 0.5758\n",
      "Epoch 34/100\n",
      "46/46 [==============================] - 172s 4s/step - loss: 0.5615 - accuracy: 0.8077 - val_loss: 1.6068 - val_accuracy: 0.5436\n",
      "Epoch 35/100\n",
      "46/46 [==============================] - 165s 4s/step - loss: 0.5192 - accuracy: 0.8291 - val_loss: 1.3992 - val_accuracy: 0.5985\n",
      "Epoch 36/100\n",
      "46/46 [==============================] - 173s 4s/step - loss: 0.5465 - accuracy: 0.8234 - val_loss: 1.4315 - val_accuracy: 0.5833\n",
      "Epoch 37/100\n",
      "46/46 [==============================] - 167s 4s/step - loss: 0.3809 - accuracy: 0.8702 - val_loss: 1.3646 - val_accuracy: 0.6269\n",
      "Epoch 38/100\n",
      "46/46 [==============================] - 170s 4s/step - loss: 0.3963 - accuracy: 0.8645 - val_loss: 1.4306 - val_accuracy: 0.6023\n",
      "Epoch 39/100\n",
      "46/46 [==============================] - 169s 4s/step - loss: 0.3419 - accuracy: 0.8894 - val_loss: 1.7039 - val_accuracy: 0.5473\n",
      "Epoch 40/100\n",
      "46/46 [==============================] - 168s 4s/step - loss: 0.2805 - accuracy: 0.9017 - val_loss: 1.4131 - val_accuracy: 0.6042\n",
      "Epoch 41/100\n",
      "46/46 [==============================] - 169s 4s/step - loss: 0.3336 - accuracy: 0.8916 - val_loss: 1.4074 - val_accuracy: 0.6136\n",
      "Epoch 42/100\n",
      "46/46 [==============================] - 167s 4s/step - loss: 0.2536 - accuracy: 0.9187 - val_loss: 1.4501 - val_accuracy: 0.6193\n",
      "Epoch 43/100\n",
      "46/46 [==============================] - 173s 4s/step - loss: 0.2291 - accuracy: 0.9261 - val_loss: 1.4408 - val_accuracy: 0.6250\n",
      "Epoch 44/100\n",
      "46/46 [==============================] - 174s 4s/step - loss: 0.2384 - accuracy: 0.9261 - val_loss: 1.3677 - val_accuracy: 0.6477\n",
      "Epoch 45/100\n",
      "46/46 [==============================] - 167s 4s/step - loss: 0.2116 - accuracy: 0.9318 - val_loss: 1.3641 - val_accuracy: 0.6193\n",
      "Epoch 46/100\n",
      "46/46 [==============================] - 162s 4s/step - loss: 0.1921 - accuracy: 0.9327 - val_loss: 1.5441 - val_accuracy: 0.6307\n",
      "Epoch 47/100\n",
      "46/46 [==============================] - 166s 4s/step - loss: 0.1877 - accuracy: 0.9309 - val_loss: 1.6519 - val_accuracy: 0.5606\n",
      "Epoch 48/100\n",
      "46/46 [==============================] - 166s 4s/step - loss: 0.1742 - accuracy: 0.9445 - val_loss: 1.4569 - val_accuracy: 0.6326\n",
      "Epoch 49/100\n",
      "46/46 [==============================] - 165s 4s/step - loss: 0.1250 - accuracy: 0.9607 - val_loss: 1.5007 - val_accuracy: 0.6439\n",
      "Epoch 50/100\n",
      "46/46 [==============================] - 172s 4s/step - loss: 0.1038 - accuracy: 0.9720 - val_loss: 1.5925 - val_accuracy: 0.6402\n",
      "Epoch 51/100\n",
      "46/46 [==============================] - 163s 4s/step - loss: 0.1169 - accuracy: 0.9611 - val_loss: 1.6708 - val_accuracy: 0.6326\n",
      "Epoch 52/100\n",
      "46/46 [==============================] - 165s 4s/step - loss: 0.0871 - accuracy: 0.9690 - val_loss: 1.6133 - val_accuracy: 0.6023\n",
      "Epoch 53/100\n",
      "46/46 [==============================] - 165s 4s/step - loss: 0.0880 - accuracy: 0.9742 - val_loss: 1.5042 - val_accuracy: 0.6591\n",
      "Epoch 54/100\n",
      "46/46 [==============================] - 169s 4s/step - loss: 0.0921 - accuracy: 0.9733 - val_loss: 1.5493 - val_accuracy: 0.6496\n",
      "Epoch 55/100\n",
      "46/46 [==============================] - 162s 4s/step - loss: 0.0670 - accuracy: 0.9803 - val_loss: 1.5633 - val_accuracy: 0.6648\n",
      "Epoch 56/100\n",
      "46/46 [==============================] - 170s 4s/step - loss: 0.0732 - accuracy: 0.9777 - val_loss: 1.8211 - val_accuracy: 0.6193\n",
      "Epoch 57/100\n",
      "46/46 [==============================] - 169s 4s/step - loss: 0.1102 - accuracy: 0.9663 - val_loss: 1.4712 - val_accuracy: 0.6572\n",
      "Epoch 58/100\n"
     ]
    },
    {
     "name": "stdout",
     "output_type": "stream",
     "text": [
      "46/46 [==============================] - 170s 4s/step - loss: 0.0857 - accuracy: 0.9720 - val_loss: 1.6264 - val_accuracy: 0.6402\n",
      "Epoch 59/100\n",
      "46/46 [==============================] - 163s 4s/step - loss: 0.1070 - accuracy: 0.9698 - val_loss: 1.6209 - val_accuracy: 0.6269\n",
      "Epoch 60/100\n",
      "46/46 [==============================] - 172s 4s/step - loss: 0.1312 - accuracy: 0.9572 - val_loss: 1.6359 - val_accuracy: 0.6288\n",
      "Epoch 61/100\n",
      "46/46 [==============================] - 170s 4s/step - loss: 0.0750 - accuracy: 0.9768 - val_loss: 1.4704 - val_accuracy: 0.6458\n",
      "Epoch 62/100\n",
      "46/46 [==============================] - 165s 4s/step - loss: 0.0631 - accuracy: 0.9843 - val_loss: 1.6185 - val_accuracy: 0.6553\n",
      "Epoch 63/100\n",
      "46/46 [==============================] - 170s 4s/step - loss: 0.0479 - accuracy: 0.9825 - val_loss: 2.0147 - val_accuracy: 0.5833\n",
      "Epoch 64/100\n",
      "46/46 [==============================] - 166s 4s/step - loss: 0.0529 - accuracy: 0.9830 - val_loss: 1.8539 - val_accuracy: 0.6402\n",
      "Epoch 65/100\n",
      "46/46 [==============================] - 181s 4s/step - loss: 0.0465 - accuracy: 0.9851 - val_loss: 1.7046 - val_accuracy: 0.6420\n",
      "Epoch 66/100\n",
      "46/46 [==============================] - 178s 4s/step - loss: 0.0351 - accuracy: 0.9899 - val_loss: 2.0511 - val_accuracy: 0.6250\n",
      "Epoch 67/100\n",
      "46/46 [==============================] - 178s 4s/step - loss: 0.0413 - accuracy: 0.9865 - val_loss: 1.8233 - val_accuracy: 0.6193\n",
      "Epoch 68/100\n",
      "46/46 [==============================] - 175s 4s/step - loss: 0.0652 - accuracy: 0.9803 - val_loss: 1.8721 - val_accuracy: 0.6288\n",
      "Epoch 69/100\n",
      "46/46 [==============================] - 179s 4s/step - loss: 0.0443 - accuracy: 0.9873 - val_loss: 1.6645 - val_accuracy: 0.6648\n",
      "Epoch 70/100\n",
      "46/46 [==============================] - 175s 4s/step - loss: 0.0364 - accuracy: 0.9895 - val_loss: 1.7136 - val_accuracy: 0.6515\n",
      "Epoch 71/100\n",
      "46/46 [==============================] - 166s 4s/step - loss: 0.0356 - accuracy: 0.9886 - val_loss: 1.6685 - val_accuracy: 0.6742\n",
      "Epoch 72/100\n",
      "46/46 [==============================] - 167s 4s/step - loss: 0.0358 - accuracy: 0.9873 - val_loss: 1.8443 - val_accuracy: 0.6402\n",
      "Epoch 73/100\n",
      "46/46 [==============================] - 167s 4s/step - loss: 0.0245 - accuracy: 0.9934 - val_loss: 1.8478 - val_accuracy: 0.6496\n",
      "Epoch 74/100\n",
      "46/46 [==============================] - 168s 4s/step - loss: 0.0248 - accuracy: 0.9939 - val_loss: 1.7828 - val_accuracy: 0.6648\n",
      "Epoch 75/100\n",
      "46/46 [==============================] - 169s 4s/step - loss: 0.0259 - accuracy: 0.9943 - val_loss: 1.8991 - val_accuracy: 0.6591\n",
      "Epoch 76/100\n",
      "46/46 [==============================] - 263s 6s/step - loss: 0.0279 - accuracy: 0.9934 - val_loss: 1.8355 - val_accuracy: 0.6667\n",
      "Epoch 77/100\n",
      "46/46 [==============================] - 168s 4s/step - loss: 0.0253 - accuracy: 0.9934 - val_loss: 1.8888 - val_accuracy: 0.6705\n",
      "Epoch 78/100\n",
      "46/46 [==============================] - 187s 4s/step - loss: 0.0084 - accuracy: 0.9974 - val_loss: 1.7433 - val_accuracy: 0.6799\n",
      "Epoch 79/100\n",
      "46/46 [==============================] - 179s 4s/step - loss: 0.0169 - accuracy: 0.9939 - val_loss: 1.9093 - val_accuracy: 0.6629\n",
      "Epoch 80/100\n",
      "46/46 [==============================] - 194s 4s/step - loss: 0.0321 - accuracy: 0.9899 - val_loss: 2.0957 - val_accuracy: 0.6174\n",
      "Epoch 81/100\n",
      "46/46 [==============================] - 186s 4s/step - loss: 0.0616 - accuracy: 0.9808 - val_loss: 1.8259 - val_accuracy: 0.6818\n",
      "Epoch 82/100\n",
      "46/46 [==============================] - 177s 4s/step - loss: 0.0418 - accuracy: 0.9865 - val_loss: 1.8008 - val_accuracy: 0.6610\n",
      "Epoch 83/100\n",
      "46/46 [==============================] - 184s 4s/step - loss: 0.0192 - accuracy: 0.9939 - val_loss: 1.7794 - val_accuracy: 0.6610\n",
      "Epoch 84/100\n",
      "46/46 [==============================] - 189s 4s/step - loss: 0.0230 - accuracy: 0.9930 - val_loss: 1.8089 - val_accuracy: 0.6420\n",
      "Epoch 85/100\n",
      "46/46 [==============================] - 188s 4s/step - loss: 0.0239 - accuracy: 0.9926 - val_loss: 1.8894 - val_accuracy: 0.6610\n",
      "Epoch 86/100\n",
      "46/46 [==============================] - 182s 4s/step - loss: 0.0328 - accuracy: 0.9904 - val_loss: 1.6994 - val_accuracy: 0.6780\n",
      "Epoch 87/100\n",
      "46/46 [==============================] - 185s 4s/step - loss: 0.0228 - accuracy: 0.9921 - val_loss: 1.8473 - val_accuracy: 0.6553\n",
      "Epoch 88/100\n",
      "46/46 [==============================] - 178s 4s/step - loss: 0.0151 - accuracy: 0.9948 - val_loss: 1.6516 - val_accuracy: 0.6913\n",
      "Epoch 89/100\n",
      "46/46 [==============================] - 173s 4s/step - loss: 0.0153 - accuracy: 0.9961 - val_loss: 1.7271 - val_accuracy: 0.6799\n",
      "Epoch 90/100\n",
      "46/46 [==============================] - 169s 4s/step - loss: 0.0148 - accuracy: 0.9956 - val_loss: 1.6872 - val_accuracy: 0.7102\n",
      "Epoch 91/100\n",
      "46/46 [==============================] - 168s 4s/step - loss: 0.0150 - accuracy: 0.9978 - val_loss: 1.8193 - val_accuracy: 0.6894\n",
      "Epoch 92/100\n",
      "46/46 [==============================] - 167s 4s/step - loss: 0.0114 - accuracy: 0.9965 - val_loss: 1.6929 - val_accuracy: 0.6970\n",
      "Epoch 93/100\n",
      "46/46 [==============================] - 164s 4s/step - loss: 0.0108 - accuracy: 0.9965 - val_loss: 1.7950 - val_accuracy: 0.6856\n",
      "Epoch 94/100\n",
      "46/46 [==============================] - 173s 4s/step - loss: 0.0106 - accuracy: 0.9987 - val_loss: 1.7441 - val_accuracy: 0.6856\n",
      "Epoch 95/100\n",
      "46/46 [==============================] - 171s 4s/step - loss: 0.0051 - accuracy: 0.9987 - val_loss: 1.8448 - val_accuracy: 0.6705\n",
      "Epoch 96/100\n",
      "46/46 [==============================] - 168s 4s/step - loss: 0.0055 - accuracy: 0.9987 - val_loss: 1.7737 - val_accuracy: 0.6818\n",
      "Epoch 97/100\n",
      "46/46 [==============================] - 169s 4s/step - loss: 0.0056 - accuracy: 0.9991 - val_loss: 1.7512 - val_accuracy: 0.6818\n",
      "Epoch 98/100\n",
      "46/46 [==============================] - 166s 4s/step - loss: 0.0019 - accuracy: 1.0000 - val_loss: 1.7219 - val_accuracy: 0.6837\n",
      "Epoch 99/100\n",
      "46/46 [==============================] - 168s 4s/step - loss: 0.0018 - accuracy: 1.0000 - val_loss: 1.7249 - val_accuracy: 0.6856\n",
      "Epoch 100/100\n",
      "46/46 [==============================] - 171s 4s/step - loss: 0.0025 - accuracy: 0.9991 - val_loss: 1.6919 - val_accuracy: 0.6951\n"
     ]
    },
    {
     "data": {
      "text/plain": [
       "<tensorflow.python.keras.callbacks.History at 0x1e380396148>"
      ]
     },
     "execution_count": 9,
     "metadata": {},
     "output_type": "execute_result"
    }
   ],
   "source": [
    "classifier.fit(\n",
    "    x=trainX,\n",
    "    y=trainY,\n",
    "    batch_size=50,\n",
    "    epochs=100,\n",
    "    validation_data=(testX, testY)\n",
    ")"
   ]
  }
 ],
 "metadata": {
  "accelerator": "TPU",
  "colab": {
   "collapsed_sections": [],
   "name": "Plant Classification using Deep CNN.ipynb",
   "provenance": []
  },
  "kernelspec": {
   "display_name": "Python 3",
   "language": "python",
   "name": "python3"
  },
  "language_info": {
   "codemirror_mode": {
    "name": "ipython",
    "version": 3
   },
   "file_extension": ".py",
   "mimetype": "text/x-python",
   "name": "python",
   "nbconvert_exporter": "python",
   "pygments_lexer": "ipython3",
   "version": "3.7.7"
  }
 },
 "nbformat": 4,
 "nbformat_minor": 1
}
